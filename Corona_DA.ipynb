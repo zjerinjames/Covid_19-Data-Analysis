{
 "cells": [
  {
   "cell_type": "code",
   "execution_count": 1,
   "metadata": {},
   "outputs": [],
   "source": [
    "#Import required libraries \n",
    "#The requests library will make a GET request to a web server, which will download the HTML contents of a given web page for us.\n",
    "\n",
    "import requests\n",
    "from bs4 import BeautifulSoup\n",
    "import matplotlib.pyplot as plt\n",
    "import pandas as pd\n",
    "import numpy as np\n",
    "import plotly.express as px\n",
    "import pycountry as pc\n",
    "\n",
    "# use the inline backend to generate the plots within the browser\n",
    "%matplotlib inline \n",
    "\n",
    "plt.style.use('ggplot')  # optional: for ggplot-like style"
   ]
  },
  {
   "cell_type": "code",
   "execution_count": 2,
   "metadata": {},
   "outputs": [],
   "source": [
    "#function that turn column names to snakecase as to make it easier to work with.\n",
    "def to_snakecase (cols):\n",
    "  map_dict = {}\n",
    "  for col in cols:\n",
    "    map_dict[col] = col.lower().strip().replace(' ', '_')\n",
    "  return map_dict"
   ]
  },
  {
   "cell_type": "code",
   "execution_count": 3,
   "metadata": {},
   "outputs": [],
   "source": [
    "#To deal with the different country names, we'll define a function that will map them to the same format across both datasets using the Pycountry library.\n",
    "def normalize_country (data):\n",
    "  if pc.countries.get(official_name=data):\n",
    "    return pc.countries.get(official_name=data).name\n",
    "  elif pc.countries.get(name=data):\n",
    "    return pc.countries.get(name=data).name\n",
    "  elif pc.countries.get(alpha_3=data):\n",
    "    return pc.countries.get(alpha_3=data).name\n",
    "  elif pc.countries.get(alpha_2=data):\n",
    "    return pc.countries.get(alpha_2=data).name"
   ]
  },
  {
   "cell_type": "markdown",
   "metadata": {},
   "source": [
    "<h3>Web Scraping</h3>\n",
    "\n",
    "Web scraping, web harvesting, or web data extraction is data scraping used for extracting data from websites."
   ]
  },
  {
   "cell_type": "code",
   "execution_count": 4,
   "metadata": {},
   "outputs": [
    {
     "data": {
      "text/plain": [
       "200"
      ]
     },
     "execution_count": 4,
     "metadata": {},
     "output_type": "execute_result"
    }
   ],
   "source": [
    "#Downloading the Webpage\n",
    "page = requests.get(\"https://www.worldometers.info/coronavirus\")\n",
    "\n",
    "page.status_code\n",
    "#  A status_code of 200 means that the page downloaded successfully. A status code starting with a 2 generally indicates success"
   ]
  },
  {
   "cell_type": "code",
   "execution_count": null,
   "metadata": {},
   "outputs": [],
   "source": [
    "#display page content\n",
    "page.content"
   ]
  },
  {
   "cell_type": "markdown",
   "metadata": {},
   "source": [
    "<h3> HTML Parsing </h3>\n",
    "<p>Parsing simply means breaking up sentence structure into components under the direction of grammar. So, ‘HTML parsing’ means taking in HTML code and extracting relevant information from its various tags. . We will be using ‘BeautifulSoup’ library.\n",
    "\n",
    "Here, the ‘lxml’ parser was used since it works with broken html and widely used.</p>"
   ]
  },
  {
   "cell_type": "code",
   "execution_count": null,
   "metadata": {},
   "outputs": [],
   "source": [
    "#Initiating the BeautifulSoup Class\n",
    "#Where soup is a variable containing the HTML of the webpage\n",
    "soup = BeautifulSoup(page.content, 'lxml')\n",
    "\n",
    "#Lets format it nicely, using the prettify method\n",
    "print(soup.prettify())"
   ]
  },
  {
   "cell_type": "markdown",
   "metadata": {},
   "source": [
    "<h3>Extraction of Table</h3>\n",
    "<p>\"table id=\"main_table_countries_today\" class=\"table table-bordered table-hover main_table_countries dataTable no-footer\" style=\"width: 100%; margin-top: 0px !important;\"</p>\n",
    "\n",
    "Succeeding the inspection, the attributes — ‘id’ was identified and will be use to filter the HTML document to get the required table elements."
   ]
  },
  {
   "cell_type": "code",
   "execution_count": null,
   "metadata": {},
   "outputs": [],
   "source": [
    "table = soup.find('table', attrs={'id' : \"main_table_countries_today\"})\n",
    "table"
   ]
  },
  {
   "cell_type": "code",
   "execution_count": 9,
   "metadata": {},
   "outputs": [],
   "source": [
    "rows = table.find_all(\"tr\", attrs={\"style\": \"\"})\n",
    "\n",
    "#create a list from the data in the table\n",
    "data = []\n",
    "for i,item in enumerate(rows):\n",
    "    \n",
    "    if i == 0:\n",
    "        \n",
    "        data.append(item.text.strip().split(\"\\n\")[:13])\n",
    "        \n",
    "    else:\n",
    "        data.append(item.text.strip().split(\"\\n\")[:12])"
   ]
  },
  {
   "cell_type": "code",
   "execution_count": 10,
   "metadata": {},
   "outputs": [
    {
     "data": {
      "text/html": [
       "<div>\n",
       "<style scoped>\n",
       "    .dataframe tbody tr th:only-of-type {\n",
       "        vertical-align: middle;\n",
       "    }\n",
       "\n",
       "    .dataframe tbody tr th {\n",
       "        vertical-align: top;\n",
       "    }\n",
       "\n",
       "    .dataframe thead th {\n",
       "        text-align: right;\n",
       "    }\n",
       "</style>\n",
       "<table border=\"1\" class=\"dataframe\">\n",
       "  <thead>\n",
       "    <tr style=\"text-align: right;\">\n",
       "      <th></th>\n",
       "      <th>#</th>\n",
       "      <th>Country,Other</th>\n",
       "      <th>TotalCases</th>\n",
       "      <th>NewCases</th>\n",
       "      <th>TotalDeaths</th>\n",
       "      <th>NewDeaths</th>\n",
       "      <th>TotalRecovered</th>\n",
       "      <th>NewRecovered</th>\n",
       "      <th>ActiveCases</th>\n",
       "      <th>Serious,Critical</th>\n",
       "      <th>Tot Cases/1M pop</th>\n",
       "      <th>Deaths/1M pop</th>\n",
       "    </tr>\n",
       "  </thead>\n",
       "  <tbody>\n",
       "    <tr>\n",
       "      <th>0</th>\n",
       "      <td>World</td>\n",
       "      <td>335,801,588</td>\n",
       "      <td>+610,752</td>\n",
       "      <td>5,575,702</td>\n",
       "      <td>+2,662</td>\n",
       "      <td>271,471,105</td>\n",
       "      <td>+516,001</td>\n",
       "      <td>58,754,781</td>\n",
       "      <td>96,411</td>\n",
       "      <td>43,080</td>\n",
       "      <td>715.3</td>\n",
       "      <td></td>\n",
       "    </tr>\n",
       "    <tr>\n",
       "      <th>1</th>\n",
       "      <td>1</td>\n",
       "      <td>USA</td>\n",
       "      <td>68,767,004</td>\n",
       "      <td></td>\n",
       "      <td>877,240</td>\n",
       "      <td></td>\n",
       "      <td>43,528,110</td>\n",
       "      <td></td>\n",
       "      <td>24,361,654</td>\n",
       "      <td>25,810</td>\n",
       "      <td>205,887</td>\n",
       "      <td>2,626</td>\n",
       "    </tr>\n",
       "    <tr>\n",
       "      <th>2</th>\n",
       "      <td>2</td>\n",
       "      <td>India</td>\n",
       "      <td>37,901,241</td>\n",
       "      <td></td>\n",
       "      <td>487,226</td>\n",
       "      <td></td>\n",
       "      <td>35,583,039</td>\n",
       "      <td></td>\n",
       "      <td>1,830,976</td>\n",
       "      <td>8,944</td>\n",
       "      <td>27,053</td>\n",
       "      <td>348</td>\n",
       "    </tr>\n",
       "    <tr>\n",
       "      <th>3</th>\n",
       "      <td>3</td>\n",
       "      <td>Brazil</td>\n",
       "      <td>23,215,551</td>\n",
       "      <td></td>\n",
       "      <td>621,578</td>\n",
       "      <td></td>\n",
       "      <td>21,773,085</td>\n",
       "      <td></td>\n",
       "      <td>820,888</td>\n",
       "      <td>8,318</td>\n",
       "      <td>108,032</td>\n",
       "      <td>2,892</td>\n",
       "    </tr>\n",
       "    <tr>\n",
       "      <th>4</th>\n",
       "      <td>4</td>\n",
       "      <td>UK</td>\n",
       "      <td>15,399,300</td>\n",
       "      <td></td>\n",
       "      <td>152,513</td>\n",
       "      <td></td>\n",
       "      <td>11,617,031</td>\n",
       "      <td></td>\n",
       "      <td>3,629,756</td>\n",
       "      <td>713</td>\n",
       "      <td>225,013</td>\n",
       "      <td>2,229</td>\n",
       "    </tr>\n",
       "    <tr>\n",
       "      <th>...</th>\n",
       "      <td>...</td>\n",
       "      <td>...</td>\n",
       "      <td>...</td>\n",
       "      <td>...</td>\n",
       "      <td>...</td>\n",
       "      <td>...</td>\n",
       "      <td>...</td>\n",
       "      <td>...</td>\n",
       "      <td>...</td>\n",
       "      <td>...</td>\n",
       "      <td>...</td>\n",
       "      <td>...</td>\n",
       "    </tr>\n",
       "    <tr>\n",
       "      <th>213</th>\n",
       "      <td>215</td>\n",
       "      <td>Vatican City</td>\n",
       "      <td>29</td>\n",
       "      <td></td>\n",
       "      <td></td>\n",
       "      <td></td>\n",
       "      <td>27</td>\n",
       "      <td></td>\n",
       "      <td>2</td>\n",
       "      <td></td>\n",
       "      <td>36,070</td>\n",
       "      <td></td>\n",
       "    </tr>\n",
       "    <tr>\n",
       "      <th>214</th>\n",
       "      <td>216</td>\n",
       "      <td>Western Sahara</td>\n",
       "      <td>10</td>\n",
       "      <td></td>\n",
       "      <td>1</td>\n",
       "      <td></td>\n",
       "      <td>8</td>\n",
       "      <td></td>\n",
       "      <td>1</td>\n",
       "      <td></td>\n",
       "      <td>16</td>\n",
       "      <td>2</td>\n",
       "    </tr>\n",
       "    <tr>\n",
       "      <th>215</th>\n",
       "      <td>219</td>\n",
       "      <td>Marshall Islands</td>\n",
       "      <td>7</td>\n",
       "      <td></td>\n",
       "      <td></td>\n",
       "      <td></td>\n",
       "      <td>4</td>\n",
       "      <td></td>\n",
       "      <td>3</td>\n",
       "      <td></td>\n",
       "      <td>117</td>\n",
       "      <td></td>\n",
       "    </tr>\n",
       "    <tr>\n",
       "      <th>216</th>\n",
       "      <td>224</td>\n",
       "      <td>China</td>\n",
       "      <td>105,345</td>\n",
       "      <td>+87</td>\n",
       "      <td>4,636</td>\n",
       "      <td></td>\n",
       "      <td>97,255</td>\n",
       "      <td>+163</td>\n",
       "      <td>3,454</td>\n",
       "      <td>15</td>\n",
       "      <td>73</td>\n",
       "      <td>3</td>\n",
       "    </tr>\n",
       "    <tr>\n",
       "      <th>217</th>\n",
       "      <td>Total:</td>\n",
       "      <td>335,801,588</td>\n",
       "      <td>+610,752</td>\n",
       "      <td>5,575,702</td>\n",
       "      <td>+2,662</td>\n",
       "      <td>271,471,105</td>\n",
       "      <td>+516,001</td>\n",
       "      <td>58,754,781</td>\n",
       "      <td>96,411</td>\n",
       "      <td>43,080.2</td>\n",
       "      <td>715.3</td>\n",
       "      <td></td>\n",
       "    </tr>\n",
       "  </tbody>\n",
       "</table>\n",
       "<p>218 rows × 12 columns</p>\n",
       "</div>"
      ],
      "text/plain": [
       "          #     Country,Other  TotalCases   NewCases TotalDeaths    NewDeaths  \\\n",
       "0     World       335,801,588    +610,752  5,575,702      +2,662  271,471,105   \n",
       "1         1               USA  68,767,004               877,240                 \n",
       "2         2             India  37,901,241               487,226                 \n",
       "3         3            Brazil  23,215,551               621,578                 \n",
       "4         4                UK  15,399,300               152,513                 \n",
       "..      ...               ...         ...        ...         ...          ...   \n",
       "213     215      Vatican City          29                                       \n",
       "214     216    Western Sahara          10                     1                 \n",
       "215     219  Marshall Islands           7                                       \n",
       "216     224             China     105,345        +87      4,636                 \n",
       "217  Total:       335,801,588    +610,752  5,575,702      +2,662  271,471,105   \n",
       "\n",
       "    TotalRecovered NewRecovered ActiveCases Serious,Critical Tot Cases/1M pop  \\\n",
       "0         +516,001   58,754,781      96,411           43,080            715.3   \n",
       "1       43,528,110               24,361,654           25,810          205,887   \n",
       "2       35,583,039                1,830,976            8,944           27,053   \n",
       "3       21,773,085                  820,888            8,318          108,032   \n",
       "4       11,617,031                3,629,756              713          225,013   \n",
       "..             ...          ...         ...              ...              ...   \n",
       "213             27                        2                            36,070   \n",
       "214              8                        1                                16   \n",
       "215              4                        3                               117   \n",
       "216         97,255         +163       3,454               15               73   \n",
       "217       +516,001   58,754,781      96,411         43,080.2            715.3   \n",
       "\n",
       "    Deaths/1M pop  \n",
       "0                  \n",
       "1           2,626  \n",
       "2             348  \n",
       "3           2,892  \n",
       "4           2,229  \n",
       "..            ...  \n",
       "213                \n",
       "214             2  \n",
       "215                \n",
       "216             3  \n",
       "217                \n",
       "\n",
       "[218 rows x 12 columns]"
      ]
     },
     "execution_count": 10,
     "metadata": {},
     "output_type": "execute_result"
    }
   ],
   "source": [
    "#Create a pandas dataframe from the data obtained\n",
    "df = pd.DataFrame(data)\n",
    "df = pd.DataFrame(data[1:], columns=data[0][:12]) #Formatting the header\n",
    "df"
   ]
  },
  {
   "cell_type": "code",
   "execution_count": 11,
   "metadata": {},
   "outputs": [
    {
     "data": {
      "text/plain": [
       "200"
      ]
     },
     "execution_count": 11,
     "metadata": {},
     "output_type": "execute_result"
    }
   ],
   "source": [
    "#to get the coordinates of the country to the data on a worldmap\n",
    "page_c = requests.get(\"https://developers.google.com/public-data/docs/canonical/countries_csv\")\n",
    "page_c.status_code"
   ]
  },
  {
   "cell_type": "code",
   "execution_count": null,
   "metadata": {},
   "outputs": [],
   "source": [
    "#Initiating the BeautifulSoup Class\n",
    "soup_c = BeautifulSoup(page_c.content, 'lxml')\n",
    "print(soup_c.prettify())"
   ]
  },
  {
   "cell_type": "code",
   "execution_count": null,
   "metadata": {},
   "outputs": [],
   "source": [
    "table_c = soup_c.find('table')\n",
    "table_c"
   ]
  },
  {
   "cell_type": "code",
   "execution_count": 14,
   "metadata": {},
   "outputs": [
    {
     "data": {
      "text/html": [
       "<div>\n",
       "<style scoped>\n",
       "    .dataframe tbody tr th:only-of-type {\n",
       "        vertical-align: middle;\n",
       "    }\n",
       "\n",
       "    .dataframe tbody tr th {\n",
       "        vertical-align: top;\n",
       "    }\n",
       "\n",
       "    .dataframe thead th {\n",
       "        text-align: right;\n",
       "    }\n",
       "</style>\n",
       "<table border=\"1\" class=\"dataframe\">\n",
       "  <thead>\n",
       "    <tr style=\"text-align: right;\">\n",
       "      <th></th>\n",
       "      <th>country</th>\n",
       "      <th>latitude</th>\n",
       "      <th>longitude</th>\n",
       "      <th>name</th>\n",
       "    </tr>\n",
       "  </thead>\n",
       "  <tbody>\n",
       "    <tr>\n",
       "      <th>0</th>\n",
       "      <td>AD</td>\n",
       "      <td>42.546245</td>\n",
       "      <td>1.601554</td>\n",
       "      <td>Andorra</td>\n",
       "    </tr>\n",
       "    <tr>\n",
       "      <th>1</th>\n",
       "      <td>AE</td>\n",
       "      <td>23.424076</td>\n",
       "      <td>53.847818</td>\n",
       "      <td>United Arab Emirates</td>\n",
       "    </tr>\n",
       "    <tr>\n",
       "      <th>2</th>\n",
       "      <td>AF</td>\n",
       "      <td>33.93911</td>\n",
       "      <td>67.709953</td>\n",
       "      <td>Afghanistan</td>\n",
       "    </tr>\n",
       "    <tr>\n",
       "      <th>3</th>\n",
       "      <td>AG</td>\n",
       "      <td>17.060816</td>\n",
       "      <td>-61.796428</td>\n",
       "      <td>Antigua and Barbuda</td>\n",
       "    </tr>\n",
       "    <tr>\n",
       "      <th>4</th>\n",
       "      <td>AI</td>\n",
       "      <td>18.220554</td>\n",
       "      <td>-63.068615</td>\n",
       "      <td>Anguilla</td>\n",
       "    </tr>\n",
       "    <tr>\n",
       "      <th>...</th>\n",
       "      <td>...</td>\n",
       "      <td>...</td>\n",
       "      <td>...</td>\n",
       "      <td>...</td>\n",
       "    </tr>\n",
       "    <tr>\n",
       "      <th>240</th>\n",
       "      <td>YE</td>\n",
       "      <td>15.552727</td>\n",
       "      <td>48.516388</td>\n",
       "      <td>Yemen</td>\n",
       "    </tr>\n",
       "    <tr>\n",
       "      <th>241</th>\n",
       "      <td>YT</td>\n",
       "      <td>-12.8275</td>\n",
       "      <td>45.166244</td>\n",
       "      <td>Mayotte</td>\n",
       "    </tr>\n",
       "    <tr>\n",
       "      <th>242</th>\n",
       "      <td>ZA</td>\n",
       "      <td>-30.559482</td>\n",
       "      <td>22.937506</td>\n",
       "      <td>South Africa</td>\n",
       "    </tr>\n",
       "    <tr>\n",
       "      <th>243</th>\n",
       "      <td>ZM</td>\n",
       "      <td>-13.133897</td>\n",
       "      <td>27.849332</td>\n",
       "      <td>Zambia</td>\n",
       "    </tr>\n",
       "    <tr>\n",
       "      <th>244</th>\n",
       "      <td>ZW</td>\n",
       "      <td>-19.015438</td>\n",
       "      <td>29.154857</td>\n",
       "      <td>Zimbabwe</td>\n",
       "    </tr>\n",
       "  </tbody>\n",
       "</table>\n",
       "<p>245 rows × 4 columns</p>\n",
       "</div>"
      ],
      "text/plain": [
       "    country    latitude   longitude                  name\n",
       "0        AD   42.546245    1.601554               Andorra\n",
       "1        AE   23.424076   53.847818  United Arab Emirates\n",
       "2        AF    33.93911   67.709953           Afghanistan\n",
       "3        AG   17.060816  -61.796428   Antigua and Barbuda\n",
       "4        AI   18.220554  -63.068615              Anguilla\n",
       "..      ...         ...         ...                   ...\n",
       "240      YE   15.552727   48.516388                 Yemen\n",
       "241      YT    -12.8275   45.166244               Mayotte\n",
       "242      ZA  -30.559482   22.937506          South Africa\n",
       "243      ZM  -13.133897   27.849332                Zambia\n",
       "244      ZW  -19.015438   29.154857              Zimbabwe\n",
       "\n",
       "[245 rows x 4 columns]"
      ]
     },
     "execution_count": 14,
     "metadata": {},
     "output_type": "execute_result"
    }
   ],
   "source": [
    "rows_c = table_c.find_all(\"tr\", attrs={\"style\": \"\"})\n",
    "#create a list from the data in the table\n",
    "data_c = []\n",
    "for i,item in enumerate(rows_c):\n",
    "    \n",
    "    if i == 0:\n",
    "        \n",
    "        data_c.append(item.text.strip().split(\"\\n\")[:13])\n",
    "        \n",
    "    else:\n",
    "        data_c.append(item.text.strip().split(\"\\n\")[:12])\n",
    "\n",
    "#dataframe for coordiantes from the data obtained from the table\n",
    "df_c = pd.DataFrame(data_c)\n",
    "df_c = pd.DataFrame(data_c[1:], columns=data_c[0][:12]) #Formatting the header\n",
    "df_c"
   ]
  },
  {
   "cell_type": "markdown",
   "metadata": {},
   "source": [
    "### Data Wrangling"
   ]
  },
  {
   "cell_type": "code",
   "execution_count": 15,
   "metadata": {},
   "outputs": [
    {
     "data": {
      "text/html": [
       "<div>\n",
       "<style scoped>\n",
       "    .dataframe tbody tr th:only-of-type {\n",
       "        vertical-align: middle;\n",
       "    }\n",
       "\n",
       "    .dataframe tbody tr th {\n",
       "        vertical-align: top;\n",
       "    }\n",
       "\n",
       "    .dataframe thead th {\n",
       "        text-align: right;\n",
       "    }\n",
       "</style>\n",
       "<table border=\"1\" class=\"dataframe\">\n",
       "  <thead>\n",
       "    <tr style=\"text-align: right;\">\n",
       "      <th></th>\n",
       "      <th>country</th>\n",
       "      <th>latitude</th>\n",
       "      <th>longitude</th>\n",
       "    </tr>\n",
       "  </thead>\n",
       "  <tbody>\n",
       "    <tr>\n",
       "      <th>0</th>\n",
       "      <td>Andorra</td>\n",
       "      <td>42.546245</td>\n",
       "      <td>1.601554</td>\n",
       "    </tr>\n",
       "    <tr>\n",
       "      <th>1</th>\n",
       "      <td>United Arab Emirates</td>\n",
       "      <td>23.424076</td>\n",
       "      <td>53.847818</td>\n",
       "    </tr>\n",
       "    <tr>\n",
       "      <th>2</th>\n",
       "      <td>Afghanistan</td>\n",
       "      <td>33.939110</td>\n",
       "      <td>67.709953</td>\n",
       "    </tr>\n",
       "    <tr>\n",
       "      <th>3</th>\n",
       "      <td>Antigua and Barbuda</td>\n",
       "      <td>17.060816</td>\n",
       "      <td>-61.796428</td>\n",
       "    </tr>\n",
       "    <tr>\n",
       "      <th>4</th>\n",
       "      <td>Anguilla</td>\n",
       "      <td>18.220554</td>\n",
       "      <td>-63.068615</td>\n",
       "    </tr>\n",
       "  </tbody>\n",
       "</table>\n",
       "</div>"
      ],
      "text/plain": [
       "                country   latitude  longitude\n",
       "0               Andorra  42.546245   1.601554\n",
       "1  United Arab Emirates  23.424076  53.847818\n",
       "2           Afghanistan  33.939110  67.709953\n",
       "3   Antigua and Barbuda  17.060816 -61.796428\n",
       "4              Anguilla  18.220554 -63.068615"
      ]
     },
     "execution_count": 15,
     "metadata": {},
     "output_type": "execute_result"
    }
   ],
   "source": [
    "#coordinate dataframe: rename the column name to Country  \n",
    "\n",
    "df_c.drop('name', axis= 1, inplace=True)\n",
    "df_c.rename(to_snakecase(df.columns), axis=1, inplace=True)\n",
    "df_c.country = df_c.country.apply(normalize_country)\n",
    "\n",
    "cols2 = df_c.columns.drop('country')\n",
    "df_c[cols2] = df_c[cols2].apply(pd.to_numeric, errors='coerce')\n",
    "df_c.head()"
   ]
  },
  {
   "cell_type": "code",
   "execution_count": 16,
   "metadata": {},
   "outputs": [
    {
     "data": {
      "text/plain": [
       "(216, 11)"
      ]
     },
     "execution_count": 16,
     "metadata": {},
     "output_type": "execute_result"
    }
   ],
   "source": [
    "#drop the rows and coloumns that is not required\n",
    "df.drop([0, 217], axis= 0, inplace=True)\n",
    "df.drop('#', axis= 1, inplace=True)\n",
    "df.reset_index(drop=True, inplace=True)\n",
    "df.shape"
   ]
  },
  {
   "cell_type": "code",
   "execution_count": 17,
   "metadata": {},
   "outputs": [
    {
     "data": {
      "text/html": [
       "<div>\n",
       "<style scoped>\n",
       "    .dataframe tbody tr th:only-of-type {\n",
       "        vertical-align: middle;\n",
       "    }\n",
       "\n",
       "    .dataframe tbody tr th {\n",
       "        vertical-align: top;\n",
       "    }\n",
       "\n",
       "    .dataframe thead th {\n",
       "        text-align: right;\n",
       "    }\n",
       "</style>\n",
       "<table border=\"1\" class=\"dataframe\">\n",
       "  <thead>\n",
       "    <tr style=\"text-align: right;\">\n",
       "      <th></th>\n",
       "      <th>country</th>\n",
       "      <th>totalcases</th>\n",
       "      <th>newcases</th>\n",
       "      <th>totaldeaths</th>\n",
       "      <th>newdeaths</th>\n",
       "      <th>totalrecovered</th>\n",
       "      <th>newrecovered</th>\n",
       "      <th>activecases</th>\n",
       "      <th>serious,critical</th>\n",
       "      <th>tot cases/1m_pop</th>\n",
       "      <th>deaths/1m_pop</th>\n",
       "    </tr>\n",
       "  </thead>\n",
       "  <tbody>\n",
       "    <tr>\n",
       "      <th>0</th>\n",
       "      <td>United States</td>\n",
       "      <td>68,767,004</td>\n",
       "      <td></td>\n",
       "      <td>877,240</td>\n",
       "      <td></td>\n",
       "      <td>43,528,110</td>\n",
       "      <td></td>\n",
       "      <td>24,361,654</td>\n",
       "      <td>25,810</td>\n",
       "      <td>205,887</td>\n",
       "      <td>2,626</td>\n",
       "    </tr>\n",
       "    <tr>\n",
       "      <th>1</th>\n",
       "      <td>India</td>\n",
       "      <td>37,901,241</td>\n",
       "      <td></td>\n",
       "      <td>487,226</td>\n",
       "      <td></td>\n",
       "      <td>35,583,039</td>\n",
       "      <td></td>\n",
       "      <td>1,830,976</td>\n",
       "      <td>8,944</td>\n",
       "      <td>27,053</td>\n",
       "      <td>348</td>\n",
       "    </tr>\n",
       "    <tr>\n",
       "      <th>2</th>\n",
       "      <td>Brazil</td>\n",
       "      <td>23,215,551</td>\n",
       "      <td></td>\n",
       "      <td>621,578</td>\n",
       "      <td></td>\n",
       "      <td>21,773,085</td>\n",
       "      <td></td>\n",
       "      <td>820,888</td>\n",
       "      <td>8,318</td>\n",
       "      <td>108,032</td>\n",
       "      <td>2,892</td>\n",
       "    </tr>\n",
       "    <tr>\n",
       "      <th>3</th>\n",
       "      <td>None</td>\n",
       "      <td>15,399,300</td>\n",
       "      <td></td>\n",
       "      <td>152,513</td>\n",
       "      <td></td>\n",
       "      <td>11,617,031</td>\n",
       "      <td></td>\n",
       "      <td>3,629,756</td>\n",
       "      <td>713</td>\n",
       "      <td>225,013</td>\n",
       "      <td>2,229</td>\n",
       "    </tr>\n",
       "    <tr>\n",
       "      <th>4</th>\n",
       "      <td>France</td>\n",
       "      <td>14,739,297</td>\n",
       "      <td></td>\n",
       "      <td>127,638</td>\n",
       "      <td></td>\n",
       "      <td>9,612,962</td>\n",
       "      <td>+205,868</td>\n",
       "      <td>4,998,697</td>\n",
       "      <td>3,881</td>\n",
       "      <td>225,038</td>\n",
       "      <td>1,949</td>\n",
       "    </tr>\n",
       "    <tr>\n",
       "      <th>...</th>\n",
       "      <td>...</td>\n",
       "      <td>...</td>\n",
       "      <td>...</td>\n",
       "      <td>...</td>\n",
       "      <td>...</td>\n",
       "      <td>...</td>\n",
       "      <td>...</td>\n",
       "      <td>...</td>\n",
       "      <td>...</td>\n",
       "      <td>...</td>\n",
       "      <td>...</td>\n",
       "    </tr>\n",
       "    <tr>\n",
       "      <th>211</th>\n",
       "      <td>Solomon Islands</td>\n",
       "      <td>32</td>\n",
       "      <td></td>\n",
       "      <td></td>\n",
       "      <td></td>\n",
       "      <td>20</td>\n",
       "      <td></td>\n",
       "      <td>12</td>\n",
       "      <td></td>\n",
       "      <td>45</td>\n",
       "      <td></td>\n",
       "    </tr>\n",
       "    <tr>\n",
       "      <th>212</th>\n",
       "      <td>None</td>\n",
       "      <td>29</td>\n",
       "      <td></td>\n",
       "      <td></td>\n",
       "      <td></td>\n",
       "      <td>27</td>\n",
       "      <td></td>\n",
       "      <td>2</td>\n",
       "      <td></td>\n",
       "      <td>36,070</td>\n",
       "      <td></td>\n",
       "    </tr>\n",
       "    <tr>\n",
       "      <th>213</th>\n",
       "      <td>Western Sahara</td>\n",
       "      <td>10</td>\n",
       "      <td></td>\n",
       "      <td>1</td>\n",
       "      <td></td>\n",
       "      <td>8</td>\n",
       "      <td></td>\n",
       "      <td>1</td>\n",
       "      <td></td>\n",
       "      <td>16</td>\n",
       "      <td>2</td>\n",
       "    </tr>\n",
       "    <tr>\n",
       "      <th>214</th>\n",
       "      <td>Marshall Islands</td>\n",
       "      <td>7</td>\n",
       "      <td></td>\n",
       "      <td></td>\n",
       "      <td></td>\n",
       "      <td>4</td>\n",
       "      <td></td>\n",
       "      <td>3</td>\n",
       "      <td></td>\n",
       "      <td>117</td>\n",
       "      <td></td>\n",
       "    </tr>\n",
       "    <tr>\n",
       "      <th>215</th>\n",
       "      <td>China</td>\n",
       "      <td>105,345</td>\n",
       "      <td>+87</td>\n",
       "      <td>4,636</td>\n",
       "      <td></td>\n",
       "      <td>97,255</td>\n",
       "      <td>+163</td>\n",
       "      <td>3,454</td>\n",
       "      <td>15</td>\n",
       "      <td>73</td>\n",
       "      <td>3</td>\n",
       "    </tr>\n",
       "  </tbody>\n",
       "</table>\n",
       "<p>216 rows × 11 columns</p>\n",
       "</div>"
      ],
      "text/plain": [
       "              country  totalcases newcases totaldeaths newdeaths  \\\n",
       "0       United States  68,767,004             877,240              \n",
       "1               India  37,901,241             487,226              \n",
       "2              Brazil  23,215,551             621,578              \n",
       "3                None  15,399,300             152,513              \n",
       "4              France  14,739,297             127,638              \n",
       "..                ...         ...      ...         ...       ...   \n",
       "211   Solomon Islands          32                                  \n",
       "212              None          29                                  \n",
       "213    Western Sahara          10                   1              \n",
       "214  Marshall Islands           7                                  \n",
       "215             China     105,345      +87      4,636              \n",
       "\n",
       "    totalrecovered newrecovered activecases serious,critical tot cases/1m_pop  \\\n",
       "0       43,528,110               24,361,654           25,810          205,887   \n",
       "1       35,583,039                1,830,976            8,944           27,053   \n",
       "2       21,773,085                  820,888            8,318          108,032   \n",
       "3       11,617,031                3,629,756              713          225,013   \n",
       "4        9,612,962     +205,868   4,998,697            3,881          225,038   \n",
       "..             ...          ...         ...              ...              ...   \n",
       "211             20                       12                                45   \n",
       "212             27                        2                            36,070   \n",
       "213              8                        1                                16   \n",
       "214              4                        3                               117   \n",
       "215         97,255         +163       3,454               15               73   \n",
       "\n",
       "    deaths/1m_pop  \n",
       "0           2,626  \n",
       "1             348  \n",
       "2           2,892  \n",
       "3           2,229  \n",
       "4           1,949  \n",
       "..            ...  \n",
       "211                \n",
       "212                \n",
       "213             2  \n",
       "214                \n",
       "215             3  \n",
       "\n",
       "[216 rows x 11 columns]"
      ]
     },
     "execution_count": 17,
     "metadata": {},
     "output_type": "execute_result"
    }
   ],
   "source": [
    "\n",
    "df.rename(columns={'Country,Other':'Country'}, inplace= True)\n",
    "df.rename(to_snakecase(df.columns), axis=1, inplace=True)\n",
    "df.country = df.country.apply(normalize_country)\n",
    "df"
   ]
  },
  {
   "cell_type": "code",
   "execution_count": 18,
   "metadata": {},
   "outputs": [
    {
     "name": "stdout",
     "output_type": "stream",
     "text": [
      "<class 'pandas.core.frame.DataFrame'>\n",
      "RangeIndex: 216 entries, 0 to 215\n",
      "Data columns (total 11 columns):\n",
      " #   Column            Non-Null Count  Dtype \n",
      "---  ------            --------------  ----- \n",
      " 0   country           187 non-null    object\n",
      " 1   totalcases        216 non-null    object\n",
      " 2   newcases          216 non-null    object\n",
      " 3   totaldeaths       216 non-null    object\n",
      " 4   newdeaths         216 non-null    object\n",
      " 5   totalrecovered    216 non-null    object\n",
      " 6   newrecovered      216 non-null    object\n",
      " 7   activecases       216 non-null    object\n",
      " 8   serious,critical  216 non-null    object\n",
      " 9   tot cases/1m_pop  216 non-null    object\n",
      " 10  deaths/1m_pop     216 non-null    object\n",
      "dtypes: object(11)\n",
      "memory usage: 18.7+ KB\n"
     ]
    }
   ],
   "source": [
    "# checking the data \n",
    "df.info()"
   ]
  },
  {
   "cell_type": "code",
   "execution_count": 19,
   "metadata": {},
   "outputs": [
    {
     "data": {
      "text/plain": [
       "country              object\n",
       "totalcases            int64\n",
       "newcases            float64\n",
       "totaldeaths         float64\n",
       "newdeaths           float64\n",
       "totalrecovered      float64\n",
       "newrecovered        float64\n",
       "activecases         float64\n",
       "serious,critical    float64\n",
       "tot cases/1m_pop      int64\n",
       "deaths/1m_pop       float64\n",
       "dtype: object"
      ]
     },
     "execution_count": 19,
     "metadata": {},
     "output_type": "execute_result"
    }
   ],
   "source": [
    "#change the data type into int/float for further use\n",
    "df = df.replace(',','', regex=True)\n",
    "\n",
    "cols1 = df.columns.drop('country')\n",
    "df[cols1] = df[cols1].apply(pd.to_numeric, errors='coerce')\n",
    "df.dtypes\n"
   ]
  },
  {
   "cell_type": "markdown",
   "metadata": {},
   "source": [
    "### EDA"
   ]
  },
  {
   "cell_type": "code",
   "execution_count": 20,
   "metadata": {},
   "outputs": [
    {
     "data": {
      "text/plain": [
       "country\n",
       "Poland            4373718\n",
       "Mexico            4434758\n",
       "Colombia          5596917\n",
       "NaN               6231909\n",
       "Argentina         7318305\n",
       "Germany           8140446\n",
       "Spain             8518975\n",
       "Italy             9018425\n",
       "Turkey           10591757\n",
       "NaN              10899411\n",
       "France           14739297\n",
       "NaN              15399300\n",
       "Brazil           23215551\n",
       "India            37901241\n",
       "United States    68767004\n",
       "Name: totalcases, dtype: int64"
      ]
     },
     "execution_count": 20,
     "metadata": {},
     "output_type": "execute_result"
    }
   ],
   "source": [
    "# df_can datafram from df for data visualization\n",
    "#  sort dataframe on 'Total' column (descending)\n",
    "# get top 15 countries data as df_top15\n",
    "\n",
    "df_can = df.set_index('country')\n",
    "df_can.sort_values(by='totalcases', ascending=True, inplace=True)\n",
    "df_top15 = df_can['totalcases'].tail(15)\n",
    "df_top15"
   ]
  },
  {
   "cell_type": "code",
   "execution_count": 24,
   "metadata": {},
   "outputs": [
    {
     "data": {
      "image/png": "[encoded data removed]",
      "text/plain": [
       "<Figure size 864x864 with 1 Axes>"
      ]
     },
     "metadata": {},
     "output_type": "display_data"
    }
   ],
   "source": [
    "# generate plot\n",
    "df_top15.plot(kind='barh', figsize=(12, 12), color='steelblue')\n",
    "plt.xlabel('Total Cases')\n",
    "plt.title('Top 15 Conuntries with highest Total Cases')\n",
    "plt.ticklabel_format(style='plain', axis='x')\n",
    "\n",
    "# annotate value labels to each country\n",
    "for index, value in enumerate(df_top15): \n",
    "    label = format(int(value), ',') # format int with commas\n",
    "\n",
    "    # place text at the end of bar (subtracting 47000 from x, and 0.1 from y to make it fit within the bar)\n",
    "    plt.annotate(label, xy=(value - 47000, index - 0.10), color='black')\n",
    "\n",
    "plt.show()"
   ]
  },
  {
   "cell_type": "code",
   "execution_count": 25,
   "metadata": {},
   "outputs": [
    {
     "data": {
      "text/html": [
       "<div>\n",
       "<style scoped>\n",
       "    .dataframe tbody tr th:only-of-type {\n",
       "        vertical-align: middle;\n",
       "    }\n",
       "\n",
       "    .dataframe tbody tr th {\n",
       "        vertical-align: top;\n",
       "    }\n",
       "\n",
       "    .dataframe thead th {\n",
       "        text-align: right;\n",
       "    }\n",
       "</style>\n",
       "<table border=\"1\" class=\"dataframe\">\n",
       "  <thead>\n",
       "    <tr style=\"text-align: right;\">\n",
       "      <th></th>\n",
       "      <th>country</th>\n",
       "      <th>totalcases</th>\n",
       "    </tr>\n",
       "  </thead>\n",
       "  <tbody>\n",
       "    <tr>\n",
       "      <th>0</th>\n",
       "      <td>United States</td>\n",
       "      <td>68767004</td>\n",
       "    </tr>\n",
       "    <tr>\n",
       "      <th>1</th>\n",
       "      <td>India</td>\n",
       "      <td>37901241</td>\n",
       "    </tr>\n",
       "    <tr>\n",
       "      <th>2</th>\n",
       "      <td>Brazil</td>\n",
       "      <td>23215551</td>\n",
       "    </tr>\n",
       "    <tr>\n",
       "      <th>3</th>\n",
       "      <td>None</td>\n",
       "      <td>15399300</td>\n",
       "    </tr>\n",
       "    <tr>\n",
       "      <th>4</th>\n",
       "      <td>France</td>\n",
       "      <td>14739297</td>\n",
       "    </tr>\n",
       "  </tbody>\n",
       "</table>\n",
       "</div>"
      ],
      "text/plain": [
       "         country  totalcases\n",
       "0  United States    68767004\n",
       "1          India    37901241\n",
       "2         Brazil    23215551\n",
       "3           None    15399300\n",
       "4         France    14739297"
      ]
     },
     "execution_count": 25,
     "metadata": {},
     "output_type": "execute_result"
    }
   ],
   "source": [
    "#new dataframe corona from \"country\", \"totalcases\" columns in dataframe df\n",
    "corona =  df[[\"country\", \"totalcases\"]]\n",
    "corona.head()"
   ]
  },
  {
   "cell_type": "code",
   "execution_count": 26,
   "metadata": {},
   "outputs": [
    {
     "data": {
      "text/html": [
       "<div>\n",
       "<style scoped>\n",
       "    .dataframe tbody tr th:only-of-type {\n",
       "        vertical-align: middle;\n",
       "    }\n",
       "\n",
       "    .dataframe tbody tr th {\n",
       "        vertical-align: top;\n",
       "    }\n",
       "\n",
       "    .dataframe thead th {\n",
       "        text-align: right;\n",
       "    }\n",
       "</style>\n",
       "<table border=\"1\" class=\"dataframe\">\n",
       "  <thead>\n",
       "    <tr style=\"text-align: right;\">\n",
       "      <th></th>\n",
       "      <th>latitude</th>\n",
       "      <th>longitude</th>\n",
       "      <th>country</th>\n",
       "    </tr>\n",
       "  </thead>\n",
       "  <tbody>\n",
       "    <tr>\n",
       "      <th>0</th>\n",
       "      <td>42.546245</td>\n",
       "      <td>1.601554</td>\n",
       "      <td>Andorra</td>\n",
       "    </tr>\n",
       "    <tr>\n",
       "      <th>1</th>\n",
       "      <td>23.424076</td>\n",
       "      <td>53.847818</td>\n",
       "      <td>United Arab Emirates</td>\n",
       "    </tr>\n",
       "    <tr>\n",
       "      <th>2</th>\n",
       "      <td>33.939110</td>\n",
       "      <td>67.709953</td>\n",
       "      <td>Afghanistan</td>\n",
       "    </tr>\n",
       "    <tr>\n",
       "      <th>3</th>\n",
       "      <td>17.060816</td>\n",
       "      <td>-61.796428</td>\n",
       "      <td>Antigua and Barbuda</td>\n",
       "    </tr>\n",
       "    <tr>\n",
       "      <th>4</th>\n",
       "      <td>18.220554</td>\n",
       "      <td>-63.068615</td>\n",
       "      <td>Anguilla</td>\n",
       "    </tr>\n",
       "  </tbody>\n",
       "</table>\n",
       "</div>"
      ],
      "text/plain": [
       "    latitude  longitude               country\n",
       "0  42.546245   1.601554               Andorra\n",
       "1  23.424076  53.847818  United Arab Emirates\n",
       "2  33.939110  67.709953           Afghanistan\n",
       "3  17.060816 -61.796428   Antigua and Barbuda\n",
       "4  18.220554 -63.068615              Anguilla"
      ]
     },
     "execution_count": 26,
     "metadata": {},
     "output_type": "execute_result"
    }
   ],
   "source": [
    "#new dataframe with coordinates data from df_csv dataframe\n",
    "coordinates=  df_c[[\"latitude\", \"longitude\", \"country\"]]\n",
    "coordinates.head()"
   ]
  },
  {
   "cell_type": "code",
   "execution_count": 27,
   "metadata": {},
   "outputs": [
    {
     "data": {
      "text/html": [
       "<div>\n",
       "<style scoped>\n",
       "    .dataframe tbody tr th:only-of-type {\n",
       "        vertical-align: middle;\n",
       "    }\n",
       "\n",
       "    .dataframe tbody tr th {\n",
       "        vertical-align: top;\n",
       "    }\n",
       "\n",
       "    .dataframe thead th {\n",
       "        text-align: right;\n",
       "    }\n",
       "</style>\n",
       "<table border=\"1\" class=\"dataframe\">\n",
       "  <thead>\n",
       "    <tr style=\"text-align: right;\">\n",
       "      <th></th>\n",
       "      <th>country</th>\n",
       "      <th>totalcases</th>\n",
       "      <th>latitude</th>\n",
       "      <th>longitude</th>\n",
       "    </tr>\n",
       "  </thead>\n",
       "  <tbody>\n",
       "    <tr>\n",
       "      <th>0</th>\n",
       "      <td>United States</td>\n",
       "      <td>68767004</td>\n",
       "      <td>37.090240</td>\n",
       "      <td>-95.712891</td>\n",
       "    </tr>\n",
       "    <tr>\n",
       "      <th>1</th>\n",
       "      <td>India</td>\n",
       "      <td>37901241</td>\n",
       "      <td>20.593684</td>\n",
       "      <td>78.962880</td>\n",
       "    </tr>\n",
       "    <tr>\n",
       "      <th>2</th>\n",
       "      <td>Brazil</td>\n",
       "      <td>23215551</td>\n",
       "      <td>-14.235004</td>\n",
       "      <td>-51.925280</td>\n",
       "    </tr>\n",
       "    <tr>\n",
       "      <th>3</th>\n",
       "      <td>France</td>\n",
       "      <td>14739297</td>\n",
       "      <td>46.227638</td>\n",
       "      <td>2.213749</td>\n",
       "    </tr>\n",
       "    <tr>\n",
       "      <th>4</th>\n",
       "      <td>Turkey</td>\n",
       "      <td>10591757</td>\n",
       "      <td>38.963745</td>\n",
       "      <td>35.243322</td>\n",
       "    </tr>\n",
       "  </tbody>\n",
       "</table>\n",
       "</div>"
      ],
      "text/plain": [
       "         country  totalcases   latitude  longitude\n",
       "0  United States    68767004  37.090240 -95.712891\n",
       "1          India    37901241  20.593684  78.962880\n",
       "2         Brazil    23215551 -14.235004 -51.925280\n",
       "3         France    14739297  46.227638   2.213749\n",
       "4         Turkey    10591757  38.963745  35.243322"
      ]
     },
     "execution_count": 27,
     "metadata": {},
     "output_type": "execute_result"
    }
   ],
   "source": [
    "#the dataframes with data over covid and coordinates is merged\n",
    "data = pd.merge(left=corona, right=coordinates, on='country')\n",
    "data = data[data.country.notnull()].reset_index(drop=True)\n",
    "data.head()"
   ]
  },
  {
   "cell_type": "code",
   "execution_count": 28,
   "metadata": {},
   "outputs": [],
   "source": [
    "#As some values in the data is too high compared to the others, all the scatter points wont be visible\n",
    "#therefore a new coloumn is calculated so that the data can be visualized better\n",
    "data['totalcases_norm'] = 17 + np.log(data['totalcases']/data['totalcases'].max())\n",
    "data['totalcases_norm'] = np.power(data['totalcases_norm'], 3)"
   ]
  },
  {
   "cell_type": "code",
   "execution_count": 29,
   "metadata": {},
   "outputs": [
    {
     "data": {
      "application/vnd.plotly.v1+json": {
       "config": {
        "plotlyServerURL": "https://plot.ly"
       },
       "data": [
        {
         "customdata": [
          [
           68767004,
           -95.712891,
           37.09024,
           4913
          ],
          [
           37901241,
           78.96288,
           20.593684,
           4414.3820554090635
          ],
          [
           23215551,
           -51.92528,
           -14.235004,
           4030.3810718345617
          ],
          [
           14739297,
           2.213749,
           46.227638,
           3694.971023206431
          ],
          [
           10591757,
           35.243322,
           38.963745,
           3463.0677154864006
          ],
          [
           9018425,
           12.56738,
           41.87194,
           3353.8128179859555
          ],
          [
           8518975,
           -3.74922,
           40.463667,
           3315.6622809129417
          ],
          [
           8140446,
           10.451526,
           51.165691,
           3285.4357922489216
          ],
          [
           7318305,
           -63.616672,
           -38.416097,
           3215.352507106449
          ],
          [
           5596917,
           -74.297333,
           4.570868,
           3043.261647514331
          ],
          [
           4434758,
           -102.552784,
           23.634501,
           2898.973686387061
          ],
          [
           4373718,
           19.145136,
           51.919438,
           2890.5284347368242
          ],
          [
           4275528,
           113.921327,
           -0.789275,
           2876.72825797329
          ],
          [
           3780903,
           31.16558,
           48.379433,
           2802.767041742769
          ],
          [
           3642696,
           5.291266,
           52.132633,
           2780.6177041020524
          ],
          [
           3564578,
           22.937506,
           -30.559482,
           2767.7774731064205
          ],
          [
           3293625,
           121.774017,
           12.879721,
           2721.286629608501
          ],
          [
           2820398,
           -106.346771,
           56.130366,
           2631.5894558876225
          ],
          [
           2813934,
           101.975766,
           4.210484,
           2630.277607637018
          ],
          [
           2668224,
           -75.015152,
           -9.189967,
           2600.000212679274
          ],
          [
           2652685,
           15.472962,
           49.817492,
           2596.6884885042327
          ],
          [
           2521462,
           4.469936,
           50.503887,
           2568.040674782196
          ],
          [
           2344933,
           100.992541,
           15.870032,
           2527.423043643753
          ],
          [
           2131500,
           43.679291,
           33.223191,
           2474.673835799063
          ],
          [
           1955400,
           133.775136,
           -25.274398,
           2427.645538150829
          ],
          [
           1950620,
           -8.224454,
           39.399872,
           2426.3195000769265
          ],
          [
           1944916,
           24.96676,
           45.943161,
           2424.73350733128
          ],
          [
           1933052,
           138.252924,
           36.204824,
           2421.4220101816923
          ],
          [
           1893115,
           -71.542969,
           -35.675147,
           2410.146137135678
          ],
          [
           1793754,
           8.227512,
           46.818188,
           2381.188525276551
          ],
          [
           1792137,
           34.851612,
           31.046051,
           2380.7060992406678
          ],
          [
           1703396,
           21.824312,
           39.074208,
           2353.6453472974226
          ],
          [
           1700336,
           18.643501,
           60.128161,
           2352.691044757721
          ],
          [
           1642294,
           90.356331,
           23.684994,
           2334.3077101815365
          ],
          [
           1475991,
           14.550072,
           47.516231,
           2278.3980984595178
          ],
          [
           1467198,
           21.005859,
           44.016521,
           2275.2957256838936
          ],
          [
           1369974,
           19.503304,
           47.162494,
           2239.898558464155
          ],
          [
           1338993,
           69.345116,
           30.375321,
           2228.1715293599354
          ],
          [
           1188908,
           9.501785,
           56.26392,
           2167.881379271874
          ],
          [
           1115585,
           -8.24389,
           53.41291,
           2136.050505313996
          ],
          [
           1111181,
           36.238414,
           30.585164,
           2134.0829263903433
          ],
          [
           1085004,
           66.923684,
           48.019573,
           2122.2499895944275
          ],
          [
           1059586,
           -7.09262,
           31.791702,
           2110.527180943942
          ],
          [
           1015592,
           43.356892,
           42.315407,
           2089.6640978793703
          ],
          [
           1005649,
           -77.781167,
           21.521757,
           2084.8434639010175
          ],
          [
           890787,
           19.699024,
           48.669026,
           2026.0258611556594
          ],
          [
           877717,
           84.124008,
           28.394857,
           2018.9341461288907
          ],
          [
           841785,
           25.48583,
           42.733883,
           1998.969075631102
          ],
          [
           836807,
           15.2,
           45.1,
           1996.1468277751721
          ],
          [
           833871,
           35.862285,
           33.854721,
           1994.4756521977429
          ],
          [
           804353,
           9.537499,
           33.886917,
           1977.3930639675048
          ],
          [
           719485,
           27.953389,
           53.709807,
           1925.160950991183
          ],
          [
           656456,
           -90.230759,
           15.783471,
           1882.9100448224515
          ],
          [
           632736,
           45.079162,
           23.885942,
           1866.1250167181438
          ],
          [
           629507,
           -78.183406,
           -1.831239,
           1863.7994760593554
          ],
          [
           628166,
           47.576927,
           40.143105,
           1862.8307447854077
          ],
          [
           625952,
           -83.753428,
           9.748917,
           1861.2275662610482
          ],
          [
           597707,
           80.771797,
           7.873054,
           1840.3468846274595
          ],
          [
           591843,
           -80.782127,
           8.537981,
           1835.9085875304172
          ],
          [
           581823,
           23.881275,
           55.169438,
           1828.238859838959
          ],
          [
           559312,
           14.995463,
           46.151241,
           1810.596699852481
          ],
          [
           538791,
           8.468946,
           60.472024,
           1793.98914098789
          ],
          [
           533408,
           95.956223,
           21.913965,
           1789.5453036942624
          ],
          [
           531452,
           -55.765835,
           -32.522779,
           1787.92128215119
          ],
          [
           510458,
           -70.162651,
           18.735693,
           1770.168586873103
          ],
          [
           509795,
           -58.443832,
           -23.442503,
           1769.598089847357
          ],
          [
           475303,
           47.481766,
           29.31166,
           1739.0277898767224
          ],
          [
           459486,
           40.489673,
           9.145,
           1724.3863180419658
          ],
          [
           414438,
           103.846656,
           46.862496,
           1680.2544599596451
          ],
          [
           407711,
           25.748151,
           61.92411,
           1673.3252468433468
          ],
          [
           402611,
           30.802498,
           26.820553,
           1668.0082971573802
          ],
          [
           400113,
           17.228331,
           26.3351,
           1665.3835767991138
          ],
          [
           385964,
           -86.241905,
           15.199999,
           1650.2544029177468
          ],
          [
           348708,
           45.038189,
           40.069099,
           1608.0920610807952
          ],
          [
           324026,
           17.679076,
           43.915886,
           1578.0520791365361
          ],
          [
           318249,
           37.906193,
           -0.023559,
           1570.7481935948863
          ],
          [
           316472,
           55.923255,
           21.512583,
           1568.4794498425886
          ],
          [
           314142,
           24.603189,
           56.879635,
           1565.4886419628963
          ],
          [
           313925,
           50.637772,
           25.930414,
           1565.2091651419107
          ],
          [
           310779,
           51.183884,
           25.354826,
           1561.139323813843
          ],
          [
           299172,
           27.849332,
           -13.133897,
           1545.8226642730037
          ],
          [
           294462,
           103.819836,
           1.352083,
           1539.4668268640633
          ],
          [
           274658,
           25.013607,
           58.595272,
           1511.7867079450814
          ],
          [
           251341,
           8.675277,
           9.081999,
           1476.99924943696
          ],
          [
           247663,
           21.745275,
           41.608635,
           1471.270963317181
          ],
          [
           239887,
           24.684866,
           -22.328474,
           1458.9256650169
          ],
          [
           236486,
           20.168331,
           41.153332,
           1453.422320735922
          ],
          [
           230856,
           33.429859,
           35.126413,
           1444.1671820316296
          ],
          [
           227559,
           1.659626,
           28.033886,
           1438.6606557849725
          ],
          [
           226887,
           29.154857,
           -19.015438,
           1437.5302604613519
          ],
          [
           220241,
           35.529562,
           -18.665695,
           1426.1998622011315
          ],
          [
           208271,
           64.585262,
           41.377491,
           1405.0637807964688
          ],
          [
           206676,
           19.37439,
           42.708678,
           1402.1725194775877
          ],
          [
           192158,
           74.766098,
           41.20438,
           1374.9770681795108
          ],
          [
           159203,
           32.290275,
           1.373333,
           1306.3610101355878
          ],
          [
           159070,
           67.709953,
           33.93911,
           1306.0614076661693
          ],
          [
           154756,
           18.49041,
           -22.95764,
           1296.2306714601277
          ],
          [
           154190,
           -1.023194,
           7.946527,
           1294.9243165947835
          ],
          [
           133617,
           55.536384,
           -21.115141,
           1244.5510757759657
          ],
          [
           129092,
           6.129583,
           49.815273,
           1232.6307561218616
          ],
          [
           126133,
           29.873888,
           -1.940278,
           1224.6506583100784
          ],
          [
           123577,
           -88.89653,
           13.794185,
           1217.6339269223954
          ],
          [
           120877,
           104.990963,
           12.565679,
           1210.0925971901731
          ],
          [
           114986,
           -77.297508,
           18.109581,
           1193.1513505895634
          ],
          [
           109666,
           12.354722,
           7.369722,
           1177.2357503069272
          ],
          [
           106595,
           73.22068,
           3.202778,
           1167.7612654144095
          ],
          [
           102024,
           -61.222503,
           10.691803,
           1153.2410842717313
          ],
          [
           94275,
           17.873887,
           -11.202692,
           1127.3762812702416
          ],
          [
           83487,
           -14.452362,
           14.497401,
           1088.3444428605094
          ],
          [
           82975,
           34.301525,
           -13.254308,
           1086.3929874592006
          ],
          [
           73959,
           -62.067641,
           16.995971,
           1050.3310281990018
          ],
          [
           71193,
           -61.024174,
           14.641528,
           1038.5598231293066
          ],
          [
           70483,
           -53.125782,
           3.933889,
           1035.4791800348871
          ],
          [
           67935,
           31.465866,
           -26.522503,
           1024.2144743253598
          ],
          [
           66633,
           -56.027783,
           3.919305,
           1018.3270240805543
          ],
          [
           64719,
           14.375416,
           35.937496,
           1009.5025935377664
          ],
          [
           60509,
           179.414413,
           -16.578193,
           989.332001374362
          ],
          [
           55858,
           -10.940835,
           21.00789,
           965.6998471844306
          ],
          [
           55827,
           46.869107,
           -18.766947,
           965.5371468331958
          ],
          [
           54637,
           -24.013197,
           16.002082,
           959.2363837920647
          ],
          [
           53178,
           -58.93018,
           4.860416,
           951.3602724699446
          ],
          [
           52345,
           30.217636,
           12.862807,
           946.785977915365
          ],
          [
           51535,
           -19.020835,
           64.963051,
           942.2820536921311
          ],
          [
           47275,
           -149.406843,
           -17.679742,
           917.6222934284767
          ],
          [
           45405,
           11.609444,
           -0.803689,
           906.2363219438945
          ],
          [
           43115,
           -88.49765,
           17.189877,
           891.774867752853
          ],
          [
           36736,
           29.918886,
           -3.373056,
           848.008305779202
          ],
          [
           36446,
           143.95555,
           -6.314993,
           845.8799202893047
          ],
          [
           36386,
           -59.543198,
           13.193887,
           845.437898332071
          ],
          [
           36056,
           0.824782,
           8.619543,
           842.9964527423812
          ],
          [
           35719,
           -9.696645,
           9.945587,
           840.4849720066561
          ],
          [
           34903,
           45.166244,
           -12.8275,
           834.3255009556462
          ],
          [
           32846,
           55.491977,
           -4.679574,
           818.2794581399282
          ],
          [
           31899,
           28.233608,
           -29.609988,
           810.6252316215108
          ],
          [
           31338,
           -69.968338,
           12.52111,
           806.0063061194165
          ],
          [
           31105,
           -77.39628,
           25.03428,
           804.0688312597034
          ],
          [
           29888,
           1.601554,
           42.546245,
           793.759837596657
          ],
          [
           29039,
           -3.996166,
           17.570692,
           786.3714723109255
          ],
          [
           27819,
           -72.285215,
           18.971187,
           775.4524534031902
          ],
          [
           26036,
           2.315834,
           9.30769,
           758.8002981530251
          ],
          [
           24903,
           57.552152,
           -20.348404,
           747.7501734649536
          ],
          [
           24261,
           46.199616,
           5.152149,
           741.3136533392377
          ],
          [
           23244,
           15.827659,
           -0.228021,
           730.8405022937121
          ],
          [
           20290,
           -1.561593,
           12.238333,
           698.2533517310596
          ],
          [
           19866,
           125.727539,
           -8.874217,
           693.2787620363318
          ],
          [
           17871,
           -60.978893,
           13.909444,
           668.7052619158216
          ],
          [
           17604,
           -85.207229,
           12.865416,
           665.2578726438661
          ],
          [
           17095,
           71.276093,
           38.861034,
           658.5726464669996
          ],
          [
           15492,
           10.267895,
           1.650801,
           636.4653334105483
          ],
          [
           15249,
           174.885971,
           -40.900557,
           632.9623886539883
          ],
          [
           15089,
           42.590275,
           11.825138,
           630.6324743739661
          ],
          [
           14527,
           165.618042,
           -20.904305,
           622.2955251995887
          ],
          [
           14126,
           -4.548056,
           54.236107,
           616.1946289957897
          ],
          [
           13082,
           114.109497,
           22.396428,
           599.6652740924181
          ],
          [
           11666,
           -80.566956,
           19.513469,
           575.5565051899148
          ],
          [
           11572,
           -15.310139,
           13.443182,
           573.8787874035205
          ],
          [
           11064,
           -5.345374,
           36.137741,
           564.6285378264367
          ],
          [
           10639,
           12.457777,
           43.94236,
           556.6389445604104
          ],
          [
           10427,
           -61.604171,
           12.262776,
           552.5628992908016
          ],
          [
           10349,
           48.516388,
           15.552727,
           551.0474445067174
          ],
          [
           9144,
           -64.75737,
           32.321384,
           526.4608192030873
          ],
          [
           9085,
           39.782334,
           15.179384,
           525.1956816106385
          ],
          [
           8790,
           -42.604303,
           71.706936,
           518.7756672808491
          ],
          [
           8459,
           8.081666,
           17.607789,
           511.37656952210597
          ],
          [
           7957,
           -61.370976,
           15.414999,
           499.72931740938645
          ],
          [
           7784,
           43.872219,
           -11.875001,
           495.58802864607395
          ],
          [
           7558,
           -11.779889,
           8.460555,
           490.07311938164565
          ],
          [
           7488,
           9.555373,
           47.166,
           488.34001003333105
          ],
          [
           7140,
           -15.180413,
           11.803749,
           479.5400262835925
          ],
          [
           7121,
           -9.429499,
           6.428055,
           479.05044607944217
          ],
          [
           6943,
           7.412841,
           43.750298,
           474.4159702418889
          ],
          [
           6887,
           18.732207,
           15.454166,
           472.93967016671485
          ],
          [
           5634,
           6.613081,
           0.18636,
           437.3043030099729
          ],
          [
           5346,
           -61.796428,
           17.060816,
           428.2977658871728
          ],
          [
           5065,
           -62.782998,
           17.357822,
           419.15972247411923
          ],
          [
           3229,
           90.433601,
           27.514162,
           347.9767749418449
          ],
          [
           2109,
           -63.068615,
           18.220554,
           288.50794062568195
          ],
          [
           454,
           -177.156097,
           -13.768752,
           130.4675298615569
          ],
          [
           167,
           134.58252,
           7.51498,
           67.50660458329135
          ],
          [
           148,
           -62.187366,
           16.742498,
           61.675649034125804
          ],
          [
           32,
           160.156194,
           -9.64571,
           14.163728185219743
          ],
          [
           10,
           -12.885834,
           24.215527,
           1.9830444493114312
          ],
          [
           7,
           171.184478,
           7.131474,
           0.7282118809276572
          ],
          [
           105345,
           104.195397,
           35.86166,
           1163.8414148696854
          ]
         ],
         "hovertemplate": "<b>%{hovertext}</b><br><br>totalcases=%{marker.color}<extra></extra>",
         "hovertext": [
          "United States",
          "India",
          "Brazil",
          "France",
          "Turkey",
          "Italy",
          "Spain",
          "Germany",
          "Argentina",
          "Colombia",
          "Mexico",
          "Poland",
          "Indonesia",
          "Ukraine",
          "Netherlands",
          "South Africa",
          "Philippines",
          "Canada",
          "Malaysia",
          "Peru",
          "Czechia",
          "Belgium",
          "Thailand",
          "Iraq",
          "Australia",
          "Portugal",
          "Romania",
          "Japan",
          "Chile",
          "Switzerland",
          "Israel",
          "Greece",
          "Sweden",
          "Bangladesh",
          "Austria",
          "Serbia",
          "Hungary",
          "Pakistan",
          "Denmark",
          "Ireland",
          "Jordan",
          "Kazakhstan",
          "Morocco",
          "Georgia",
          "Cuba",
          "Slovakia",
          "Nepal",
          "Bulgaria",
          "Croatia",
          "Lebanon",
          "Tunisia",
          "Belarus",
          "Guatemala",
          "Saudi Arabia",
          "Ecuador",
          "Azerbaijan",
          "Costa Rica",
          "Sri Lanka",
          "Panama",
          "Lithuania",
          "Slovenia",
          "Norway",
          "Myanmar",
          "Uruguay",
          "Dominican Republic",
          "Paraguay",
          "Kuwait",
          "Ethiopia",
          "Mongolia",
          "Finland",
          "Egypt",
          "Libya",
          "Honduras",
          "Armenia",
          "Bosnia and Herzegovina",
          "Kenya",
          "Oman",
          "Latvia",
          "Bahrain",
          "Qatar",
          "Zambia",
          "Singapore",
          "Estonia",
          "Nigeria",
          "North Macedonia",
          "Botswana",
          "Albania",
          "Cyprus",
          "Algeria",
          "Zimbabwe",
          "Mozambique",
          "Uzbekistan",
          "Montenegro",
          "Kyrgyzstan",
          "Uganda",
          "Afghanistan",
          "Namibia",
          "Ghana",
          "Réunion",
          "Luxembourg",
          "Rwanda",
          "El Salvador",
          "Cambodia",
          "Jamaica",
          "Cameroon",
          "Maldives",
          "Trinidad and Tobago",
          "Angola",
          "Senegal",
          "Malawi",
          "Guadeloupe",
          "Martinique",
          "French Guiana",
          "Eswatini",
          "Suriname",
          "Malta",
          "Fiji",
          "Mauritania",
          "Madagascar",
          "Cabo Verde",
          "Guyana",
          "Sudan",
          "Iceland",
          "French Polynesia",
          "Gabon",
          "Belize",
          "Burundi",
          "Papua New Guinea",
          "Barbados",
          "Togo",
          "Guinea",
          "Mayotte",
          "Seychelles",
          "Lesotho",
          "Aruba",
          "Bahamas",
          "Andorra",
          "Mali",
          "Haiti",
          "Benin",
          "Mauritius",
          "Somalia",
          "Congo",
          "Burkina Faso",
          "Timor-Leste",
          "Saint Lucia",
          "Nicaragua",
          "Tajikistan",
          "Equatorial Guinea",
          "New Zealand",
          "Djibouti",
          "New Caledonia",
          "Isle of Man",
          "Hong Kong",
          "Cayman Islands",
          "Gambia",
          "Gibraltar",
          "San Marino",
          "Grenada",
          "Yemen",
          "Bermuda",
          "Eritrea",
          "Greenland",
          "Niger",
          "Dominica",
          "Comoros",
          "Sierra Leone",
          "Liechtenstein",
          "Guinea-Bissau",
          "Liberia",
          "Monaco",
          "Chad",
          "Sao Tome and Principe",
          "Antigua and Barbuda",
          "Saint Kitts and Nevis",
          "Bhutan",
          "Anguilla",
          "Wallis and Futuna",
          "Palau",
          "Montserrat",
          "Solomon Islands",
          "Western Sahara",
          "Marshall Islands",
          "China"
         ],
         "lat": [
          37.09024,
          20.593684,
          -14.235004,
          46.227638,
          38.963745,
          41.87194,
          40.463667,
          51.165691,
          -38.416097,
          4.570868,
          23.634501,
          51.919438,
          -0.789275,
          48.379433,
          52.132633,
          -30.559482,
          12.879721,
          56.130366,
          4.210484,
          -9.189967,
          49.817492,
          50.503887,
          15.870032,
          33.223191,
          -25.274398,
          39.399872,
          45.943161,
          36.204824,
          -35.675147,
          46.818188,
          31.046051,
          39.074208,
          60.128161,
          23.684994,
          47.516231,
          44.016521,
          47.162494,
          30.375321,
          56.26392,
          53.41291,
          30.585164,
          48.019573,
          31.791702,
          42.315407,
          21.521757,
          48.669026,
          28.394857,
          42.733883,
          45.1,
          33.854721,
          33.886917,
          53.709807,
          15.783471,
          23.885942,
          -1.831239,
          40.143105,
          9.748917,
          7.873054,
          8.537981,
          55.169438,
          46.151241,
          60.472024,
          21.913965,
          -32.522779,
          18.735693,
          -23.442503,
          29.31166,
          9.145,
          46.862496,
          61.92411,
          26.820553,
          26.3351,
          15.199999,
          40.069099,
          43.915886,
          -0.023559,
          21.512583,
          56.879635,
          25.930414,
          25.354826,
          -13.133897,
          1.352083,
          58.595272,
          9.081999,
          41.608635,
          -22.328474,
          41.153332,
          35.126413,
          28.033886,
          -19.015438,
          -18.665695,
          41.377491,
          42.708678,
          41.20438,
          1.373333,
          33.93911,
          -22.95764,
          7.946527,
          -21.115141,
          49.815273,
          -1.940278,
          13.794185,
          12.565679,
          18.109581,
          7.369722,
          3.202778,
          10.691803,
          -11.202692,
          14.497401,
          -13.254308,
          16.995971,
          14.641528,
          3.933889,
          -26.522503,
          3.919305,
          35.937496,
          -16.578193,
          21.00789,
          -18.766947,
          16.002082,
          4.860416,
          12.862807,
          64.963051,
          -17.679742,
          -0.803689,
          17.189877,
          -3.373056,
          -6.314993,
          13.193887,
          8.619543,
          9.945587,
          -12.8275,
          -4.679574,
          -29.609988,
          12.52111,
          25.03428,
          42.546245,
          17.570692,
          18.971187,
          9.30769,
          -20.348404,
          5.152149,
          -0.228021,
          12.238333,
          -8.874217,
          13.909444,
          12.865416,
          38.861034,
          1.650801,
          -40.900557,
          11.825138,
          -20.904305,
          54.236107,
          22.396428,
          19.513469,
          13.443182,
          36.137741,
          43.94236,
          12.262776,
          15.552727,
          32.321384,
          15.179384,
          71.706936,
          17.607789,
          15.414999,
          -11.875001,
          8.460555,
          47.166,
          11.803749,
          6.428055,
          43.750298,
          15.454166,
          0.18636,
          17.060816,
          17.357822,
          27.514162,
          18.220554,
          -13.768752,
          7.51498,
          16.742498,
          -9.64571,
          24.215527,
          7.131474,
          35.86166
         ],
         "legendgroup": "",
         "lon": [
          -95.712891,
          78.96288,
          -51.92528,
          2.213749,
          35.243322,
          12.56738,
          -3.74922,
          10.451526,
          -63.616672,
          -74.297333,
          -102.552784,
          19.145136,
          113.921327,
          31.16558,
          5.291266,
          22.937506,
          121.774017,
          -106.346771,
          101.975766,
          -75.015152,
          15.472962,
          4.469936,
          100.992541,
          43.679291,
          133.775136,
          -8.224454,
          24.96676,
          138.252924,
          -71.542969,
          8.227512,
          34.851612,
          21.824312,
          18.643501,
          90.356331,
          14.550072,
          21.005859,
          19.503304,
          69.345116,
          9.501785,
          -8.24389,
          36.238414,
          66.923684,
          -7.09262,
          43.356892,
          -77.781167,
          19.699024,
          84.124008,
          25.48583,
          15.2,
          35.862285,
          9.537499,
          27.953389,
          -90.230759,
          45.079162,
          -78.183406,
          47.576927,
          -83.753428,
          80.771797,
          -80.782127,
          23.881275,
          14.995463,
          8.468946,
          95.956223,
          -55.765835,
          -70.162651,
          -58.443832,
          47.481766,
          40.489673,
          103.846656,
          25.748151,
          30.802498,
          17.228331,
          -86.241905,
          45.038189,
          17.679076,
          37.906193,
          55.923255,
          24.603189,
          50.637772,
          51.183884,
          27.849332,
          103.819836,
          25.013607,
          8.675277,
          21.745275,
          24.684866,
          20.168331,
          33.429859,
          1.659626,
          29.154857,
          35.529562,
          64.585262,
          19.37439,
          74.766098,
          32.290275,
          67.709953,
          18.49041,
          -1.023194,
          55.536384,
          6.129583,
          29.873888,
          -88.89653,
          104.990963,
          -77.297508,
          12.354722,
          73.22068,
          -61.222503,
          17.873887,
          -14.452362,
          34.301525,
          -62.067641,
          -61.024174,
          -53.125782,
          31.465866,
          -56.027783,
          14.375416,
          179.414413,
          -10.940835,
          46.869107,
          -24.013197,
          -58.93018,
          30.217636,
          -19.020835,
          -149.406843,
          11.609444,
          -88.49765,
          29.918886,
          143.95555,
          -59.543198,
          0.824782,
          -9.696645,
          45.166244,
          55.491977,
          28.233608,
          -69.968338,
          -77.39628,
          1.601554,
          -3.996166,
          -72.285215,
          2.315834,
          57.552152,
          46.199616,
          15.827659,
          -1.561593,
          125.727539,
          -60.978893,
          -85.207229,
          71.276093,
          10.267895,
          174.885971,
          42.590275,
          165.618042,
          -4.548056,
          114.109497,
          -80.566956,
          -15.310139,
          -5.345374,
          12.457777,
          -61.604171,
          48.516388,
          -64.75737,
          39.782334,
          -42.604303,
          8.081666,
          -61.370976,
          43.872219,
          -11.779889,
          9.555373,
          -15.180413,
          -9.429499,
          7.412841,
          18.732207,
          6.613081,
          -61.796428,
          -62.782998,
          90.433601,
          -63.068615,
          -177.156097,
          134.58252,
          -62.187366,
          160.156194,
          -12.885834,
          171.184478,
          104.195397
         ],
         "marker": {
          "color": [
           68767004,
           37901241,
           23215551,
           14739297,
           10591757,
           9018425,
           8518975,
           8140446,
           7318305,
           5596917,
           4434758,
           4373718,
           4275528,
           3780903,
           3642696,
           3564578,
           3293625,
           2820398,
           2813934,
           2668224,
           2652685,
           2521462,
           2344933,
           2131500,
           1955400,
           1950620,
           1944916,
           1933052,
           1893115,
           1793754,
           1792137,
           1703396,
           1700336,
           1642294,
           1475991,
           1467198,
           1369974,
           1338993,
           1188908,
           1115585,
           1111181,
           1085004,
           1059586,
           1015592,
           1005649,
           890787,
           877717,
           841785,
           836807,
           833871,
           804353,
           719485,
           656456,
           632736,
           629507,
           628166,
           625952,
           597707,
           591843,
           581823,
           559312,
           538791,
           533408,
           531452,
           510458,
           509795,
           475303,
           459486,
           414438,
           407711,
           402611,
           400113,
           385964,
           348708,
           324026,
           318249,
           316472,
           314142,
           313925,
           310779,
           299172,
           294462,
           274658,
           251341,
           247663,
           239887,
           236486,
           230856,
           227559,
           226887,
           220241,
           208271,
           206676,
           192158,
           159203,
           159070,
           154756,
           154190,
           133617,
           129092,
           126133,
           123577,
           120877,
           114986,
           109666,
           106595,
           102024,
           94275,
           83487,
           82975,
           73959,
           71193,
           70483,
           67935,
           66633,
           64719,
           60509,
           55858,
           55827,
           54637,
           53178,
           52345,
           51535,
           47275,
           45405,
           43115,
           36736,
           36446,
           36386,
           36056,
           35719,
           34903,
           32846,
           31899,
           31338,
           31105,
           29888,
           29039,
           27819,
           26036,
           24903,
           24261,
           23244,
           20290,
           19866,
           17871,
           17604,
           17095,
           15492,
           15249,
           15089,
           14527,
           14126,
           13082,
           11666,
           11572,
           11064,
           10639,
           10427,
           10349,
           9144,
           9085,
           8790,
           8459,
           7957,
           7784,
           7558,
           7488,
           7140,
           7121,
           6943,
           6887,
           5634,
           5346,
           5065,
           3229,
           2109,
           454,
           167,
           148,
           32,
           10,
           7,
           105345
          ],
          "coloraxis": "coloraxis",
          "size": [
           4913,
           4414.3820554090635,
           4030.3810718345617,
           3694.971023206431,
           3463.0677154864006,
           3353.8128179859555,
           3315.6622809129417,
           3285.4357922489216,
           3215.352507106449,
           3043.261647514331,
           2898.973686387061,
           2890.5284347368242,
           2876.72825797329,
           2802.767041742769,
           2780.6177041020524,
           2767.7774731064205,
           2721.286629608501,
           2631.5894558876225,
           2630.277607637018,
           2600.000212679274,
           2596.6884885042327,
           2568.040674782196,
           2527.423043643753,
           2474.673835799063,
           2427.645538150829,
           2426.3195000769265,
           2424.73350733128,
           2421.4220101816923,
           2410.146137135678,
           2381.188525276551,
           2380.7060992406678,
           2353.6453472974226,
           2352.691044757721,
           2334.3077101815365,
           2278.3980984595178,
           2275.2957256838936,
           2239.898558464155,
           2228.1715293599354,
           2167.881379271874,
           2136.050505313996,
           2134.0829263903433,
           2122.2499895944275,
           2110.527180943942,
           2089.6640978793703,
           2084.8434639010175,
           2026.0258611556594,
           2018.9341461288907,
           1998.969075631102,
           1996.1468277751721,
           1994.4756521977429,
           1977.3930639675048,
           1925.160950991183,
           1882.9100448224515,
           1866.1250167181438,
           1863.7994760593554,
           1862.8307447854077,
           1861.2275662610482,
           1840.3468846274595,
           1835.9085875304172,
           1828.238859838959,
           1810.596699852481,
           1793.98914098789,
           1789.5453036942624,
           1787.92128215119,
           1770.168586873103,
           1769.598089847357,
           1739.0277898767224,
           1724.3863180419658,
           1680.2544599596451,
           1673.3252468433468,
           1668.0082971573802,
           1665.3835767991138,
           1650.2544029177468,
           1608.0920610807952,
           1578.0520791365361,
           1570.7481935948863,
           1568.4794498425886,
           1565.4886419628963,
           1565.2091651419107,
           1561.139323813843,
           1545.8226642730037,
           1539.4668268640633,
           1511.7867079450814,
           1476.99924943696,
           1471.270963317181,
           1458.9256650169,
           1453.422320735922,
           1444.1671820316296,
           1438.6606557849725,
           1437.5302604613519,
           1426.1998622011315,
           1405.0637807964688,
           1402.1725194775877,
           1374.9770681795108,
           1306.3610101355878,
           1306.0614076661693,
           1296.2306714601277,
           1294.9243165947835,
           1244.5510757759657,
           1232.6307561218616,
           1224.6506583100784,
           1217.6339269223954,
           1210.0925971901731,
           1193.1513505895634,
           1177.2357503069272,
           1167.7612654144095,
           1153.2410842717313,
           1127.3762812702416,
           1088.3444428605094,
           1086.3929874592006,
           1050.3310281990018,
           1038.5598231293066,
           1035.4791800348871,
           1024.2144743253598,
           1018.3270240805543,
           1009.5025935377664,
           989.332001374362,
           965.6998471844306,
           965.5371468331958,
           959.2363837920647,
           951.3602724699446,
           946.785977915365,
           942.2820536921311,
           917.6222934284767,
           906.2363219438945,
           891.774867752853,
           848.008305779202,
           845.8799202893047,
           845.437898332071,
           842.9964527423812,
           840.4849720066561,
           834.3255009556462,
           818.2794581399282,
           810.6252316215108,
           806.0063061194165,
           804.0688312597034,
           793.759837596657,
           786.3714723109255,
           775.4524534031902,
           758.8002981530251,
           747.7501734649536,
           741.3136533392377,
           730.8405022937121,
           698.2533517310596,
           693.2787620363318,
           668.7052619158216,
           665.2578726438661,
           658.5726464669996,
           636.4653334105483,
           632.9623886539883,
           630.6324743739661,
           622.2955251995887,
           616.1946289957897,
           599.6652740924181,
           575.5565051899148,
           573.8787874035205,
           564.6285378264367,
           556.6389445604104,
           552.5628992908016,
           551.0474445067174,
           526.4608192030873,
           525.1956816106385,
           518.7756672808491,
           511.37656952210597,
           499.72931740938645,
           495.58802864607395,
           490.07311938164565,
           488.34001003333105,
           479.5400262835925,
           479.05044607944217,
           474.4159702418889,
           472.93967016671485,
           437.3043030099729,
           428.2977658871728,
           419.15972247411923,
           347.9767749418449,
           288.50794062568195,
           130.4675298615569,
           67.50660458329135,
           61.675649034125804,
           14.163728185219743,
           1.9830444493114312,
           0.7282118809276572,
           1163.8414148696854
          ],
          "sizemode": "area",
          "sizeref": 49.13
         },
         "mode": "markers",
         "name": "",
         "showlegend": false,
         "subplot": "mapbox",
         "type": "scattermapbox"
        }
       ],
       "layout": {
        "coloraxis": {
         "colorbar": {
          "title": {
           "text": "totalcases"
          }
         },
         "colorscale": [
          [
           0,
           "rgb(150,0,90)"
          ],
          [
           0.125,
           "rgb(0,0,200)"
          ],
          [
           0.25,
           "rgb(0,25,255)"
          ],
          [
           0.375,
           "rgb(0,152,255)"
          ],
          [
           0.5,
           "rgb(44,255,150)"
          ],
          [
           0.625,
           "rgb(151,255,0)"
          ],
          [
           0.75,
           "rgb(255,234,0)"
          ],
          [
           0.875,
           "rgb(255,111,0)"
          ],
          [
           1,
           "rgb(255,0,0)"
          ]
         ]
        },
        "legend": {
         "itemsizing": "constant",
         "tracegroupgap": 0
        },
        "mapbox": {
         "accesstoken": "pk.eyJ1IjoiemplcmluamFtZXMiLCJhIjoiY2t5ZXBkcjZ5MDUzYTJwcXJsYTNlbTd6cCJ9.nCIbtyTk_ACADOUYS4KpMQ",
         "center": {
          "lat": 19.099666929347826,
          "lon": 12.882865413043477
         },
         "domain": {
          "x": [
           0,
           1
          ],
          "y": [
           0,
           1
          ]
         },
         "zoom": 0
        },
        "margin": {
         "t": 60
        },
        "template": {
         "data": {
          "bar": [
           {
            "error_x": {
             "color": "#2a3f5f"
            },
            "error_y": {
             "color": "#2a3f5f"
            },
            "marker": {
             "line": {
              "color": "#E5ECF6",
              "width": 0.5
             },
             "pattern": {
              "fillmode": "overlay",
              "size": 10,
              "solidity": 0.2
             }
            },
            "type": "bar"
           }
          ],
          "barpolar": [
           {
            "marker": {
             "line": {
              "color": "#E5ECF6",
              "width": 0.5
             },
             "pattern": {
              "fillmode": "overlay",
              "size": 10,
              "solidity": 0.2
             }
            },
            "type": "barpolar"
           }
          ],
          "carpet": [
           {
            "aaxis": {
             "endlinecolor": "#2a3f5f",
             "gridcolor": "white",
             "linecolor": "white",
             "minorgridcolor": "white",
             "startlinecolor": "#2a3f5f"
            },
            "baxis": {
             "endlinecolor": "#2a3f5f",
             "gridcolor": "white",
             "linecolor": "white",
             "minorgridcolor": "white",
             "startlinecolor": "#2a3f5f"
            },
            "type": "carpet"
           }
          ],
          "choropleth": [
           {
            "colorbar": {
             "outlinewidth": 0,
             "ticks": ""
            },
            "type": "choropleth"
           }
          ],
          "contour": [
           {
            "colorbar": {
             "outlinewidth": 0,
             "ticks": ""
            },
            "colorscale": [
             [
              0,
              "#0d0887"
             ],
             [
              0.1111111111111111,
              "#46039f"
             ],
             [
              0.2222222222222222,
              "#7201a8"
             ],
             [
              0.3333333333333333,
              "#9c179e"
             ],
             [
              0.4444444444444444,
              "#bd3786"
             ],
             [
              0.5555555555555556,
              "#d8576b"
             ],
             [
              0.6666666666666666,
              "#ed7953"
             ],
             [
              0.7777777777777778,
              "#fb9f3a"
             ],
             [
              0.8888888888888888,
              "#fdca26"
             ],
             [
              1,
              "#f0f921"
             ]
            ],
            "type": "contour"
           }
          ],
          "contourcarpet": [
           {
            "colorbar": {
             "outlinewidth": 0,
             "ticks": ""
            },
            "type": "contourcarpet"
           }
          ],
          "heatmap": [
           {
            "colorbar": {
             "outlinewidth": 0,
             "ticks": ""
            },
            "colorscale": [
             [
              0,
              "#0d0887"
             ],
             [
              0.1111111111111111,
              "#46039f"
             ],
             [
              0.2222222222222222,
              "#7201a8"
             ],
             [
              0.3333333333333333,
              "#9c179e"
             ],
             [
              0.4444444444444444,
              "#bd3786"
             ],
             [
              0.5555555555555556,
              "#d8576b"
             ],
             [
              0.6666666666666666,
              "#ed7953"
             ],
             [
              0.7777777777777778,
              "#fb9f3a"
             ],
             [
              0.8888888888888888,
              "#fdca26"
             ],
             [
              1,
              "#f0f921"
             ]
            ],
            "type": "heatmap"
           }
          ],
          "heatmapgl": [
           {
            "colorbar": {
             "outlinewidth": 0,
             "ticks": ""
            },
            "colorscale": [
             [
              0,
              "#0d0887"
             ],
             [
              0.1111111111111111,
              "#46039f"
             ],
             [
              0.2222222222222222,
              "#7201a8"
             ],
             [
              0.3333333333333333,
              "#9c179e"
             ],
             [
              0.4444444444444444,
              "#bd3786"
             ],
             [
              0.5555555555555556,
              "#d8576b"
             ],
             [
              0.6666666666666666,
              "#ed7953"
             ],
             [
              0.7777777777777778,
              "#fb9f3a"
             ],
             [
              0.8888888888888888,
              "#fdca26"
             ],
             [
              1,
              "#f0f921"
             ]
            ],
            "type": "heatmapgl"
           }
          ],
          "histogram": [
           {
            "marker": {
             "pattern": {
              "fillmode": "overlay",
              "size": 10,
              "solidity": 0.2
             }
            },
            "type": "histogram"
           }
          ],
          "histogram2d": [
           {
            "colorbar": {
             "outlinewidth": 0,
             "ticks": ""
            },
            "colorscale": [
             [
              0,
              "#0d0887"
             ],
             [
              0.1111111111111111,
              "#46039f"
             ],
             [
              0.2222222222222222,
              "#7201a8"
             ],
             [
              0.3333333333333333,
              "#9c179e"
             ],
             [
              0.4444444444444444,
              "#bd3786"
             ],
             [
              0.5555555555555556,
              "#d8576b"
             ],
             [
              0.6666666666666666,
              "#ed7953"
             ],
             [
              0.7777777777777778,
              "#fb9f3a"
             ],
             [
              0.8888888888888888,
              "#fdca26"
             ],
             [
              1,
              "#f0f921"
             ]
            ],
            "type": "histogram2d"
           }
          ],
          "histogram2dcontour": [
           {
            "colorbar": {
             "outlinewidth": 0,
             "ticks": ""
            },
            "colorscale": [
             [
              0,
              "#0d0887"
             ],
             [
              0.1111111111111111,
              "#46039f"
             ],
             [
              0.2222222222222222,
              "#7201a8"
             ],
             [
              0.3333333333333333,
              "#9c179e"
             ],
             [
              0.4444444444444444,
              "#bd3786"
             ],
             [
              0.5555555555555556,
              "#d8576b"
             ],
             [
              0.6666666666666666,
              "#ed7953"
             ],
             [
              0.7777777777777778,
              "#fb9f3a"
             ],
             [
              0.8888888888888888,
              "#fdca26"
             ],
             [
              1,
              "#f0f921"
             ]
            ],
            "type": "histogram2dcontour"
           }
          ],
          "mesh3d": [
           {
            "colorbar": {
             "outlinewidth": 0,
             "ticks": ""
            },
            "type": "mesh3d"
           }
          ],
          "parcoords": [
           {
            "line": {
             "colorbar": {
              "outlinewidth": 0,
              "ticks": ""
             }
            },
            "type": "parcoords"
           }
          ],
          "pie": [
           {
            "automargin": true,
            "type": "pie"
           }
          ],
          "scatter": [
           {
            "marker": {
             "colorbar": {
              "outlinewidth": 0,
              "ticks": ""
             }
            },
            "type": "scatter"
           }
          ],
          "scatter3d": [
           {
            "line": {
             "colorbar": {
              "outlinewidth": 0,
              "ticks": ""
             }
            },
            "marker": {
             "colorbar": {
              "outlinewidth": 0,
              "ticks": ""
             }
            },
            "type": "scatter3d"
           }
          ],
          "scattercarpet": [
           {
            "marker": {
             "colorbar": {
              "outlinewidth": 0,
              "ticks": ""
             }
            },
            "type": "scattercarpet"
           }
          ],
          "scattergeo": [
           {
            "marker": {
             "colorbar": {
              "outlinewidth": 0,
              "ticks": ""
             }
            },
            "type": "scattergeo"
           }
          ],
          "scattergl": [
           {
            "marker": {
             "colorbar": {
              "outlinewidth": 0,
              "ticks": ""
             }
            },
            "type": "scattergl"
           }
          ],
          "scattermapbox": [
           {
            "marker": {
             "colorbar": {
              "outlinewidth": 0,
              "ticks": ""
             }
            },
            "type": "scattermapbox"
           }
          ],
          "scatterpolar": [
           {
            "marker": {
             "colorbar": {
              "outlinewidth": 0,
              "ticks": ""
             }
            },
            "type": "scatterpolar"
           }
          ],
          "scatterpolargl": [
           {
            "marker": {
             "colorbar": {
              "outlinewidth": 0,
              "ticks": ""
             }
            },
            "type": "scatterpolargl"
           }
          ],
          "scatterternary": [
           {
            "marker": {
             "colorbar": {
              "outlinewidth": 0,
              "ticks": ""
             }
            },
            "type": "scatterternary"
           }
          ],
          "surface": [
           {
            "colorbar": {
             "outlinewidth": 0,
             "ticks": ""
            },
            "colorscale": [
             [
              0,
              "#0d0887"
             ],
             [
              0.1111111111111111,
              "#46039f"
             ],
             [
              0.2222222222222222,
              "#7201a8"
             ],
             [
              0.3333333333333333,
              "#9c179e"
             ],
             [
              0.4444444444444444,
              "#bd3786"
             ],
             [
              0.5555555555555556,
              "#d8576b"
             ],
             [
              0.6666666666666666,
              "#ed7953"
             ],
             [
              0.7777777777777778,
              "#fb9f3a"
             ],
             [
              0.8888888888888888,
              "#fdca26"
             ],
             [
              1,
              "#f0f921"
             ]
            ],
            "type": "surface"
           }
          ],
          "table": [
           {
            "cells": {
             "fill": {
              "color": "#EBF0F8"
             },
             "line": {
              "color": "white"
             }
            },
            "header": {
             "fill": {
              "color": "#C8D4E3"
             },
             "line": {
              "color": "white"
             }
            },
            "type": "table"
           }
          ]
         },
         "layout": {
          "annotationdefaults": {
           "arrowcolor": "#2a3f5f",
           "arrowhead": 0,
           "arrowwidth": 1
          },
          "autotypenumbers": "strict",
          "coloraxis": {
           "colorbar": {
            "outlinewidth": 0,
            "ticks": ""
           }
          },
          "colorscale": {
           "diverging": [
            [
             0,
             "#8e0152"
            ],
            [
             0.1,
             "#c51b7d"
            ],
            [
             0.2,
             "#de77ae"
            ],
            [
             0.3,
             "#f1b6da"
            ],
            [
             0.4,
             "#fde0ef"
            ],
            [
             0.5,
             "#f7f7f7"
            ],
            [
             0.6,
             "#e6f5d0"
            ],
            [
             0.7,
             "#b8e186"
            ],
            [
             0.8,
             "#7fbc41"
            ],
            [
             0.9,
             "#4d9221"
            ],
            [
             1,
             "#276419"
            ]
           ],
           "sequential": [
            [
             0,
             "#0d0887"
            ],
            [
             0.1111111111111111,
             "#46039f"
            ],
            [
             0.2222222222222222,
             "#7201a8"
            ],
            [
             0.3333333333333333,
             "#9c179e"
            ],
            [
             0.4444444444444444,
             "#bd3786"
            ],
            [
             0.5555555555555556,
             "#d8576b"
            ],
            [
             0.6666666666666666,
             "#ed7953"
            ],
            [
             0.7777777777777778,
             "#fb9f3a"
            ],
            [
             0.8888888888888888,
             "#fdca26"
            ],
            [
             1,
             "#f0f921"
            ]
           ],
           "sequentialminus": [
            [
             0,
             "#0d0887"
            ],
            [
             0.1111111111111111,
             "#46039f"
            ],
            [
             0.2222222222222222,
             "#7201a8"
            ],
            [
             0.3333333333333333,
             "#9c179e"
            ],
            [
             0.4444444444444444,
             "#bd3786"
            ],
            [
             0.5555555555555556,
             "#d8576b"
            ],
            [
             0.6666666666666666,
             "#ed7953"
            ],
            [
             0.7777777777777778,
             "#fb9f3a"
            ],
            [
             0.8888888888888888,
             "#fdca26"
            ],
            [
             1,
             "#f0f921"
            ]
           ]
          },
          "colorway": [
           "#636efa",
           "#EF553B",
           "#00cc96",
           "#ab63fa",
           "#FFA15A",
           "#19d3f3",
           "#FF6692",
           "#B6E880",
           "#FF97FF",
           "#FECB52"
          ],
          "font": {
           "color": "#2a3f5f"
          },
          "geo": {
           "bgcolor": "white",
           "lakecolor": "white",
           "landcolor": "#E5ECF6",
           "showlakes": true,
           "showland": true,
           "subunitcolor": "white"
          },
          "hoverlabel": {
           "align": "left"
          },
          "hovermode": "closest",
          "mapbox": {
           "style": "light"
          },
          "paper_bgcolor": "white",
          "plot_bgcolor": "#E5ECF6",
          "polar": {
           "angularaxis": {
            "gridcolor": "white",
            "linecolor": "white",
            "ticks": ""
           },
           "bgcolor": "#E5ECF6",
           "radialaxis": {
            "gridcolor": "white",
            "linecolor": "white",
            "ticks": ""
           }
          },
          "scene": {
           "xaxis": {
            "backgroundcolor": "#E5ECF6",
            "gridcolor": "white",
            "gridwidth": 2,
            "linecolor": "white",
            "showbackground": true,
            "ticks": "",
            "zerolinecolor": "white"
           },
           "yaxis": {
            "backgroundcolor": "#E5ECF6",
            "gridcolor": "white",
            "gridwidth": 2,
            "linecolor": "white",
            "showbackground": true,
            "ticks": "",
            "zerolinecolor": "white"
           },
           "zaxis": {
            "backgroundcolor": "#E5ECF6",
            "gridcolor": "white",
            "gridwidth": 2,
            "linecolor": "white",
            "showbackground": true,
            "ticks": "",
            "zerolinecolor": "white"
           }
          },
          "shapedefaults": {
           "line": {
            "color": "#2a3f5f"
           }
          },
          "ternary": {
           "aaxis": {
            "gridcolor": "white",
            "linecolor": "white",
            "ticks": ""
           },
           "baxis": {
            "gridcolor": "white",
            "linecolor": "white",
            "ticks": ""
           },
           "bgcolor": "#E5ECF6",
           "caxis": {
            "gridcolor": "white",
            "linecolor": "white",
            "ticks": ""
           }
          },
          "title": {
           "x": 0.05
          },
          "xaxis": {
           "automargin": true,
           "gridcolor": "white",
           "linecolor": "white",
           "ticks": "",
           "title": {
            "standoff": 15
           },
           "zerolinecolor": "white",
           "zerolinewidth": 2
          },
          "yaxis": {
           "automargin": true,
           "gridcolor": "white",
           "linecolor": "white",
           "ticks": "",
           "title": {
            "standoff": 15
           },
           "zerolinecolor": "white",
           "zerolinewidth": 2
          }
         }
        }
       }
      }
     },
     "metadata": {},
     "output_type": "display_data"
    }
   ],
   "source": [
    "#create a worldmap visualtization of totalcases with mapbox and plotly scatter plot\n",
    "#The access token is obtained from your mapbox personal account\n",
    "\n",
    "px.set_mapbox_access_token(\"pk.eyJ1IjoiemplcmluamFtZXMiLCJhIjoiY2t5ZXBkcjZ5MDUzYTJwcXJsYTNlbTd6cCJ9.nCIbtyTk_ACADOUYS4KpMQ\")\n",
    "fig = px.scatter_mapbox(data, lat=\"latitude\", lon=\"longitude\",color=\"totalcases\", size=\"totalcases_norm\",\n",
    "                  color_continuous_scale=px.colors.sequential.Rainbow, size_max=10,zoom=0, hover_name=\"country\", hover_data= {\"totalcases\":True,\"longitude\":False, \"latitude\":False, \"totalcases_norm\" :False})\n",
    "\n",
    "fig.show()"
   ]
  },
  {
   "cell_type": "markdown",
   "metadata": {},
   "source": [
    "From the world map we can easily observe the total Covid-19 cases of each country."
   ]
  }
 ],
 "metadata": {
  "interpreter": {
   "hash": "e482a83a3c245c33f98b7100e15d48c920af10125453231b4775ca72b7f04583"
  },
  "kernelspec": {
   "display_name": "Python 3.10.1 64-bit ('minimal_ds': conda)",
   "language": "python",
   "name": "python3"
  },
  "language_info": {
   "codemirror_mode": {
    "name": "ipython",
    "version": 3
   },
   "file_extension": ".py",
   "mimetype": "text/x-python",
   "name": "python",
   "nbconvert_exporter": "python",
   "pygments_lexer": "ipython3",
   "version": "3.10.1"
  },
  "orig_nbformat": 4
 },
 "nbformat": 4,
 "nbformat_minor": 2
}
